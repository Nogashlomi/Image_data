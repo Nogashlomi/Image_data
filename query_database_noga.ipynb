{
 "cells": [
  {
   "cell_type": "code",
   "execution_count": 1,
   "metadata": {},
   "outputs": [],
   "source": [
    "import practicalSPARQL\n",
    "import pandas as pd"
   ]
  },
  {
   "cell_type": "code",
   "execution_count": 2,
   "metadata": {},
   "outputs": [
    {
     "name": "stdout",
     "output_type": "stream",
     "text": [
      "--- Querying ENDPOINT: http://devmeta.sphaera.mpiwg-berlin.mpg.de/sparql ---\n"
     ]
    }
   ],
   "source": [
    "root_q = 'queries'\n",
    "root_d = 'results'\n",
    "\n",
    "# read login data\n",
    "login = pd.read_json('config_sparql.json')\n",
    "ENDPOINT = login['endpoint'][0]\n",
    "USERNAME = login['username'][0]\n",
    "PASSWORD = login['password'][0]\n",
    "\n",
    "# create sparql object\n",
    "sparql = practicalSPARQL.practicalWrapper(ENDPOINT)\n",
    "sparql.setCredentials(USERNAME, PASSWORD)\n",
    "\n",
    "print(\"--- Querying ENDPOINT: {} ---\".format(ENDPOINT))"
   ]
  },
  {
   "cell_type": "code",
   "execution_count": 7,
   "metadata": {},
   "outputs": [],
   "source": [
    "q = practicalSPARQL.stringify_SPARQL('get_book_parts.sparql')    # select data from the ttl file as a dataframe\n",
    "df = sparql.select_as_dataframe(q)"
   ]
  },
  {
   "cell_type": "code",
   "execution_count": 8,
   "metadata": {},
   "outputs": [
    {
     "data": {
      "text/html": [
       "<div>\n",
       "<style scoped>\n",
       "    .dataframe tbody tr th:only-of-type {\n",
       "        vertical-align: middle;\n",
       "    }\n",
       "\n",
       "    .dataframe tbody tr th {\n",
       "        vertical-align: top;\n",
       "    }\n",
       "\n",
       "    .dataframe thead th {\n",
       "        text-align: right;\n",
       "    }\n",
       "</style>\n",
       "<table border=\"1\" class=\"dataframe\">\n",
       "  <thead>\n",
       "    <tr style=\"text-align: right;\">\n",
       "      <th></th>\n",
       "      <th>part_title</th>\n",
       "      <th>book</th>\n",
       "    </tr>\n",
       "  </thead>\n",
       "  <tbody>\n",
       "    <tr>\n",
       "      <th>0</th>\n",
       "      <td>Paratext: Preface by Giuntini on his tables</td>\n",
       "      <td>Speculum astrologiae</td>\n",
       "    </tr>\n",
       "    <tr>\n",
       "      <th>1</th>\n",
       "      <td>Paratext: Preface to Giuntini's treatise on fi...</td>\n",
       "      <td>Speculum astrologiae</td>\n",
       "    </tr>\n",
       "    <tr>\n",
       "      <th>2</th>\n",
       "      <td>Dodoen's Isagoge</td>\n",
       "      <td>De sphaera, sive de astronomiae et geographiae...</td>\n",
       "    </tr>\n",
       "    <tr>\n",
       "      <th>3</th>\n",
       "      <td>Poetry: Poem by Cornelius Grapheus</td>\n",
       "      <td>De sphaera, sive de astronomiae et geographiae...</td>\n",
       "    </tr>\n",
       "    <tr>\n",
       "      <th>4</th>\n",
       "      <td>Poetry: Poem (In huius...) by Grapheus</td>\n",
       "      <td>De sphaera, sive de astronomiae et geographiae...</td>\n",
       "    </tr>\n",
       "    <tr>\n",
       "      <th>...</th>\n",
       "      <td>...</td>\n",
       "      <td>...</td>\n",
       "    </tr>\n",
       "    <tr>\n",
       "      <th>1236</th>\n",
       "      <td>Computus ecclesiasticus by Anonymous_Augsburg_...</td>\n",
       "      <td>Procli Diodochi Sphaera</td>\n",
       "    </tr>\n",
       "    <tr>\n",
       "      <th>1237</th>\n",
       "      <td>On the calendar reform by Anonymous_Augsburg_1...</td>\n",
       "      <td>Procli Diodochi Sphaera</td>\n",
       "    </tr>\n",
       "    <tr>\n",
       "      <th>1238</th>\n",
       "      <td>Paratext: Anonymous’ Epigram on Proclus Sphaera</td>\n",
       "      <td>Sphaera Procli Latine</td>\n",
       "    </tr>\n",
       "    <tr>\n",
       "      <th>1239</th>\n",
       "      <td>Introduction to geometry by A. Piccolomini</td>\n",
       "      <td>Della Sfera Del Mondo</td>\n",
       "    </tr>\n",
       "    <tr>\n",
       "      <th>1240</th>\n",
       "      <td>Poetry: Epigram by P. Melanchthon (de triplici...</td>\n",
       "      <td>Libellus de Sphaera Johannis de Sacro Busto</td>\n",
       "    </tr>\n",
       "  </tbody>\n",
       "</table>\n",
       "<p>1241 rows × 2 columns</p>\n",
       "</div>"
      ],
      "text/plain": [
       "                                             part_title  \\\n",
       "0           Paratext: Preface by Giuntini on his tables   \n",
       "1     Paratext: Preface to Giuntini's treatise on fi...   \n",
       "2                                      Dodoen's Isagoge   \n",
       "3                    Poetry: Poem by Cornelius Grapheus   \n",
       "4                Poetry: Poem (In huius...) by Grapheus   \n",
       "...                                                 ...   \n",
       "1236  Computus ecclesiasticus by Anonymous_Augsburg_...   \n",
       "1237  On the calendar reform by Anonymous_Augsburg_1...   \n",
       "1238    Paratext: Anonymous’ Epigram on Proclus Sphaera   \n",
       "1239         Introduction to geometry by A. Piccolomini   \n",
       "1240  Poetry: Epigram by P. Melanchthon (de triplici...   \n",
       "\n",
       "                                                   book  \n",
       "0                                  Speculum astrologiae  \n",
       "1                                  Speculum astrologiae  \n",
       "2     De sphaera, sive de astronomiae et geographiae...  \n",
       "3     De sphaera, sive de astronomiae et geographiae...  \n",
       "4     De sphaera, sive de astronomiae et geographiae...  \n",
       "...                                                 ...  \n",
       "1236                            Procli Diodochi Sphaera  \n",
       "1237                            Procli Diodochi Sphaera  \n",
       "1238                              Sphaera Procli Latine  \n",
       "1239                              Della Sfera Del Mondo  \n",
       "1240        Libellus de Sphaera Johannis de Sacro Busto  \n",
       "\n",
       "[1241 rows x 2 columns]"
      ]
     },
     "execution_count": 8,
     "metadata": {},
     "output_type": "execute_result"
    }
   ],
   "source": [
    "df"
   ]
  },
  {
   "cell_type": "code",
   "execution_count": null,
   "metadata": {},
   "outputs": [],
   "source": []
  }
 ],
 "metadata": {
  "kernelspec": {
   "display_name": "Python 3 (ipykernel)",
   "language": "python",
   "name": "python3"
  },
  "language_info": {
   "codemirror_mode": {
    "name": "ipython",
    "version": 3
   },
   "file_extension": ".py",
   "mimetype": "text/x-python",
   "name": "python",
   "nbconvert_exporter": "python",
   "pygments_lexer": "ipython3",
   "version": "3.12.2"
  },
  "vscode": {
   "interpreter": {
    "hash": "c393802f60a7a78aeca09669bab19f5fda1dea818abf5b8b1ad1df6cd7729586"
   }
  }
 },
 "nbformat": 4,
 "nbformat_minor": 4
}
