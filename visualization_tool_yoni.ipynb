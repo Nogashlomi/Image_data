{
 "cells": [
  {
   "cell_type": "code",
   "execution_count": 1,
   "id": "1e757c8f-cffa-4c40-a87b-9b80e725d55a",
   "metadata": {},
   "outputs": [],
   "source": [
    "import matplotlib.pyplot as plt\n",
    "import os\n",
    "import practicalSPARQL\n",
    "import pandas as pd\n",
    "import ipywidgets as widgets\n",
    "from ipywidgets import interactive\n",
    "from ipywidgets import VBox, HTML, Image\n",
    "from IPython.display import display, Image, HTML \n",
    "from PIL import Image as PILImage\n",
    "import io\n",
    "import numpy as np"
   ]
  },
  {
   "cell_type": "code",
   "execution_count": 2,
   "id": "d7f17e8f-0a3b-48a6-bf00-cea1c2d1af10",
   "metadata": {},
   "outputs": [],
   "source": [
    "%load_ext autoreload\n",
    "%autoreload 2"
   ]
  },
  {
   "cell_type": "code",
   "execution_count": 3,
   "id": "06ced3be-5a52-4a8b-9d34-2452e4e457d6",
   "metadata": {},
   "outputs": [
    {
     "name": "stdout",
     "output_type": "stream",
     "text": [
      "--- Querying ENDPOINT: http://devmeta.sphaera.mpiwg-berlin.mpg.de/sparql ---\n"
     ]
    }
   ],
   "source": [
    "root_q = 'queries'\n",
    "root_d = 'results'\n",
    "\n",
    "# read login data\n",
    "login = pd.read_json('config_sparql.json')\n",
    "ENDPOINT = login['endpoint'][0]\n",
    "USERNAME = login['username'][0]\n",
    "PASSWORD = login['password'][0]\n",
    "\n",
    "# create sparql object\n",
    "sparql = practicalSPARQL.practicalWrapper(ENDPOINT)\n",
    "sparql.setCredentials(USERNAME, PASSWORD)\n",
    "\n",
    "print(\"--- Querying ENDPOINT: {} ---\".format(ENDPOINT))"
   ]
  },
  {
   "cell_type": "code",
   "execution_count": 4,
   "id": "cc844ad7-5375-492b-9860-455aeaaf0580",
   "metadata": {},
   "outputs": [],
   "source": [
    "q = practicalSPARQL.stringify_SPARQL('elements_query_050824.sparql')    # select data from the ttl file as a dataframe\n",
    "df = sparql.select_as_dataframe(q)"
   ]
  },
  {
   "cell_type": "code",
   "execution_count": 5,
   "id": "e008b605-8a77-4d03-9497-a50d8b092169",
   "metadata": {},
   "outputs": [],
   "source": [
    "q = practicalSPARQL.stringify_SPARQL('books_query.sparql')    # select data from the ttl file as a dataframe\n",
    "books = sparql.select_as_dataframe(q)"
   ]
  },
  {
   "cell_type": "code",
   "execution_count": 6,
   "id": "3e8a8b90-19f8-42e5-955a-caddbcf5d7e5",
   "metadata": {},
   "outputs": [],
   "source": [
    "df['cks'] = df['cks'].astype(str)\n",
    "df['cks'] = df['cks'].str.split(', ')\n",
    "df_exploded = df.explode('cks')\n",
    "\n",
    "# Remove brackets, single quotes, double quotes, and leading/trailing whitespace\n",
    "df_exploded['cks'] = df_exploded['cks'].str.replace(r\"[\\[\\]\\\"']\", \"\", regex=True).str.strip()\n",
    "\n",
    "df_exploded.reset_index(drop=True, inplace=True)"
   ]
  },
  {
   "cell_type": "code",
   "execution_count": 7,
   "id": "9f6a321c-1726-4269-b7e1-1b74903d384b",
   "metadata": {},
   "outputs": [],
   "source": [
    "#df_exploded"
   ]
  },
  {
   "cell_type": "code",
   "execution_count": 8,
   "id": "3ce037ea-79c9-4ae5-95b1-4f8d286f76fc",
   "metadata": {},
   "outputs": [],
   "source": [
    "import ipywidgets as widgets\n",
    "\n",
    "from app_components import VisApp, KeyWordSelector, ImageDisplay, EventBus, PlotDisplay\n"
   ]
  },
  {
   "cell_type": "code",
   "execution_count": 9,
   "id": "78c85466-b153-48e4-9d6a-05f9562f3213",
   "metadata": {},
   "outputs": [],
   "source": [
    "app = VisApp(df_exploded, books)"
   ]
  },
  {
   "cell_type": "code",
   "execution_count": 10,
   "id": "5e9d5d98-166b-4116-92e7-67f3ddca683b",
   "metadata": {},
   "outputs": [
    {
     "data": {
      "application/vnd.jupyter.widget-view+json": {
       "model_id": "e8b391099fdc4d57a55072bd07e80271",
       "version_major": 2,
       "version_minor": 0
      },
      "text/plain": [
       "GridspecLayout(children=(VBox(children=(SelectMultiple(layout=Layout(height='100%'), options=('CK_Five Zones',…"
      ]
     },
     "execution_count": 10,
     "metadata": {},
     "output_type": "execute_result"
    }
   ],
   "source": [
    "app.app"
   ]
  },
  {
   "cell_type": "code",
   "execution_count": null,
   "id": "442cba8f-af14-40a2-9237-7dc85c6f5568",
   "metadata": {},
   "outputs": [],
   "source": []
  },
  {
   "cell_type": "code",
   "execution_count": 11,
   "id": "b2a9f0af-723d-4705-9a48-4327edafe7de",
   "metadata": {},
   "outputs": [
    {
     "data": {
      "text/plain": [
       "20540"
      ]
     },
     "execution_count": 11,
     "metadata": {},
     "output_type": "execute_result"
    }
   ],
   "source": [
    "np.unique(df_exploded.images.values).shape[0]"
   ]
  },
  {
   "cell_type": "code",
   "execution_count": 12,
   "id": "92e17ac2-f583-4956-9a66-2ba77a1964b1",
   "metadata": {},
   "outputs": [],
   "source": [
    "#df_exploded.book.values"
   ]
  },
  {
   "cell_type": "code",
   "execution_count": null,
   "id": "8db0ec1c-83d0-471e-a770-94fd522b0ab4",
   "metadata": {},
   "outputs": [],
   "source": []
  }
 ],
 "metadata": {
  "kernelspec": {
   "display_name": "Python 3 (ipykernel)",
   "language": "python",
   "name": "python3"
  },
  "language_info": {
   "codemirror_mode": {
    "name": "ipython",
    "version": 3
   },
   "file_extension": ".py",
   "mimetype": "text/x-python",
   "name": "python",
   "nbconvert_exporter": "python",
   "pygments_lexer": "ipython3",
   "version": "3.12.2"
  }
 },
 "nbformat": 4,
 "nbformat_minor": 5
}
