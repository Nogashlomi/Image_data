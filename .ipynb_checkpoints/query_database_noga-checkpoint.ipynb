{
 "cells": [
  {
   "cell_type": "code",
   "execution_count": 1,
   "metadata": {},
   "outputs": [],
   "source": [
    "import practicalSPARQL\n",
    "import pandas as pd"
   ]
  },
  {
   "cell_type": "code",
   "execution_count": 2,
   "metadata": {},
   "outputs": [
    {
     "name": "stdout",
     "output_type": "stream",
     "text": [
      "--- Querying ENDPOINT: http://devmeta.sphaera.mpiwg-berlin.mpg.de/sparql ---\n"
     ]
    }
   ],
   "source": [
    "root_q = 'queries'\n",
    "root_d = 'results'\n",
    "\n",
    "# read login data\n",
    "login = pd.read_json('config_sparql.json')\n",
    "ENDPOINT = login['endpoint'][0]\n",
    "USERNAME = login['username'][0]\n",
    "PASSWORD = login['password'][0]\n",
    "\n",
    "# create sparql object\n",
    "sparql = practicalSPARQL.practicalWrapper(ENDPOINT)\n",
    "sparql.setCredentials(USERNAME, PASSWORD)\n",
    "\n",
    "print(\"--- Querying ENDPOINT: {} ---\".format(ENDPOINT))"
   ]
  },
  {
   "cell_type": "code",
   "execution_count": 3,
   "metadata": {},
   "outputs": [],
   "source": [
    "q = practicalSPARQL.stringify_SPARQL('test.sparql')    # select data from the ttl file as a dataframe\n",
    "df = sparql.select_as_dataframe(q)"
   ]
  },
  {
   "cell_type": "code",
   "execution_count": 4,
   "metadata": {},
   "outputs": [
    {
     "data": {
      "text/html": [
       "<div>\n",
       "<style scoped>\n",
       "    .dataframe tbody tr th:only-of-type {\n",
       "        vertical-align: middle;\n",
       "    }\n",
       "\n",
       "    .dataframe tbody tr th {\n",
       "        vertical-align: top;\n",
       "    }\n",
       "\n",
       "    .dataframe thead th {\n",
       "        text-align: right;\n",
       "    }\n",
       "</style>\n",
       "<table border=\"1\" class=\"dataframe\">\n",
       "  <thead>\n",
       "    <tr style=\"text-align: right;\">\n",
       "      <th></th>\n",
       "      <th>element</th>\n",
       "      <th>book</th>\n",
       "      <th>year</th>\n",
       "      <th>place</th>\n",
       "      <th>publisher</th>\n",
       "      <th>printer</th>\n",
       "      <th>part</th>\n",
       "      <th>partType</th>\n",
       "      <th>cluster</th>\n",
       "      <th>contentKeyword</th>\n",
       "      <th>upperContentKeyword</th>\n",
       "    </tr>\n",
       "  </thead>\n",
       "  <tbody>\n",
       "    <tr>\n",
       "      <th>0</th>\n",
       "      <td>NaN</td>\n",
       "      <td>NaN</td>\n",
       "      <td>NaN</td>\n",
       "      <td>NaN</td>\n",
       "      <td>NaN</td>\n",
       "      <td>NaN</td>\n",
       "      <td>NaN</td>\n",
       "      <td>NaN</td>\n",
       "      <td>NaN</td>\n",
       "      <td>NaN</td>\n",
       "      <td>NaN</td>\n",
       "    </tr>\n",
       "  </tbody>\n",
       "</table>\n",
       "</div>"
      ],
      "text/plain": [
       "   element  book  year  place  publisher  printer  part  partType  cluster  \\\n",
       "0      NaN   NaN   NaN    NaN        NaN      NaN   NaN       NaN      NaN   \n",
       "\n",
       "   contentKeyword  upperContentKeyword  \n",
       "0             NaN                  NaN  "
      ]
     },
     "execution_count": 4,
     "metadata": {},
     "output_type": "execute_result"
    }
   ],
   "source": [
    "df"
   ]
  }
 ],
 "metadata": {
  "kernelspec": {
   "display_name": "Python 3 (ipykernel)",
   "language": "python",
   "name": "python3"
  },
  "language_info": {
   "codemirror_mode": {
    "name": "ipython",
    "version": 3
   },
   "file_extension": ".py",
   "mimetype": "text/x-python",
   "name": "python",
   "nbconvert_exporter": "python",
   "pygments_lexer": "ipython3",
   "version": "3.12.2"
  },
  "vscode": {
   "interpreter": {
    "hash": "c393802f60a7a78aeca09669bab19f5fda1dea818abf5b8b1ad1df6cd7729586"
   }
  }
 },
 "nbformat": 4,
 "nbformat_minor": 4
}
